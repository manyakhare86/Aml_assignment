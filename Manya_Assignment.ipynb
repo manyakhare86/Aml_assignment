{
  "nbformat": 4,
  "nbformat_minor": 0,
  "metadata": {
    "colab": {
      "provenance": []
    },
    "kernelspec": {
      "name": "python3",
      "display_name": "Python 3"
    },
    "language_info": {
      "name": "python"
    }
  },
  "cells": [
    {
      "cell_type": "code",
      "execution_count": 193,
      "metadata": {
        "id": "l7gJkfcqTIXr"
      },
      "outputs": [],
      "source": [
        "import pandas as pd\n",
        "import numpy as np"
      ]
    },
    {
      "cell_type": "code",
      "source": [
        "data = pd.read_csv('diabetes.csv')"
      ],
      "metadata": {
        "id": "s1xOQy8ITnSU"
      },
      "execution_count": 194,
      "outputs": []
    },
    {
      "cell_type": "code",
      "source": [
        "data"
      ],
      "metadata": {
        "colab": {
          "base_uri": "https://localhost:8080/",
          "height": 423
        },
        "id": "RA9qZqOiTqK5",
        "outputId": "f114cbee-f955-4eca-99c3-0d79b5bccf26"
      },
      "execution_count": 195,
      "outputs": [
        {
          "output_type": "execute_result",
          "data": {
            "text/plain": [
              "     Pregnancies  Glucose  BloodPressure  SkinThickness  Insulin   BMI  \\\n",
              "0              6      148             72             35        0  33.6   \n",
              "1              1       85             66             29        0  26.6   \n",
              "2              8      183             64              0        0  23.3   \n",
              "3              1       89             66             23       94  28.1   \n",
              "4              0      137             40             35      168  43.1   \n",
              "..           ...      ...            ...            ...      ...   ...   \n",
              "763           10      101             76             48      180  32.9   \n",
              "764            2      122             70             27        0  36.8   \n",
              "765            5      121             72             23      112  26.2   \n",
              "766            1      126             60              0        0  30.1   \n",
              "767            1       93             70             31        0  30.4   \n",
              "\n",
              "     DiabetesPedigreeFunction  Age  Outcome  \n",
              "0                       0.627   50        1  \n",
              "1                       0.351   31        0  \n",
              "2                       0.672   32        1  \n",
              "3                       0.167   21        0  \n",
              "4                       2.288   33        1  \n",
              "..                        ...  ...      ...  \n",
              "763                     0.171   63        0  \n",
              "764                     0.340   27        0  \n",
              "765                     0.245   30        0  \n",
              "766                     0.349   47        1  \n",
              "767                     0.315   23        0  \n",
              "\n",
              "[768 rows x 9 columns]"
            ],
            "text/html": [
              "\n",
              "  <div id=\"df-4430ea8c-0dd2-4c2b-bba7-840be8019c1b\">\n",
              "    <div class=\"colab-df-container\">\n",
              "      <div>\n",
              "<style scoped>\n",
              "    .dataframe tbody tr th:only-of-type {\n",
              "        vertical-align: middle;\n",
              "    }\n",
              "\n",
              "    .dataframe tbody tr th {\n",
              "        vertical-align: top;\n",
              "    }\n",
              "\n",
              "    .dataframe thead th {\n",
              "        text-align: right;\n",
              "    }\n",
              "</style>\n",
              "<table border=\"1\" class=\"dataframe\">\n",
              "  <thead>\n",
              "    <tr style=\"text-align: right;\">\n",
              "      <th></th>\n",
              "      <th>Pregnancies</th>\n",
              "      <th>Glucose</th>\n",
              "      <th>BloodPressure</th>\n",
              "      <th>SkinThickness</th>\n",
              "      <th>Insulin</th>\n",
              "      <th>BMI</th>\n",
              "      <th>DiabetesPedigreeFunction</th>\n",
              "      <th>Age</th>\n",
              "      <th>Outcome</th>\n",
              "    </tr>\n",
              "  </thead>\n",
              "  <tbody>\n",
              "    <tr>\n",
              "      <th>0</th>\n",
              "      <td>6</td>\n",
              "      <td>148</td>\n",
              "      <td>72</td>\n",
              "      <td>35</td>\n",
              "      <td>0</td>\n",
              "      <td>33.6</td>\n",
              "      <td>0.627</td>\n",
              "      <td>50</td>\n",
              "      <td>1</td>\n",
              "    </tr>\n",
              "    <tr>\n",
              "      <th>1</th>\n",
              "      <td>1</td>\n",
              "      <td>85</td>\n",
              "      <td>66</td>\n",
              "      <td>29</td>\n",
              "      <td>0</td>\n",
              "      <td>26.6</td>\n",
              "      <td>0.351</td>\n",
              "      <td>31</td>\n",
              "      <td>0</td>\n",
              "    </tr>\n",
              "    <tr>\n",
              "      <th>2</th>\n",
              "      <td>8</td>\n",
              "      <td>183</td>\n",
              "      <td>64</td>\n",
              "      <td>0</td>\n",
              "      <td>0</td>\n",
              "      <td>23.3</td>\n",
              "      <td>0.672</td>\n",
              "      <td>32</td>\n",
              "      <td>1</td>\n",
              "    </tr>\n",
              "    <tr>\n",
              "      <th>3</th>\n",
              "      <td>1</td>\n",
              "      <td>89</td>\n",
              "      <td>66</td>\n",
              "      <td>23</td>\n",
              "      <td>94</td>\n",
              "      <td>28.1</td>\n",
              "      <td>0.167</td>\n",
              "      <td>21</td>\n",
              "      <td>0</td>\n",
              "    </tr>\n",
              "    <tr>\n",
              "      <th>4</th>\n",
              "      <td>0</td>\n",
              "      <td>137</td>\n",
              "      <td>40</td>\n",
              "      <td>35</td>\n",
              "      <td>168</td>\n",
              "      <td>43.1</td>\n",
              "      <td>2.288</td>\n",
              "      <td>33</td>\n",
              "      <td>1</td>\n",
              "    </tr>\n",
              "    <tr>\n",
              "      <th>...</th>\n",
              "      <td>...</td>\n",
              "      <td>...</td>\n",
              "      <td>...</td>\n",
              "      <td>...</td>\n",
              "      <td>...</td>\n",
              "      <td>...</td>\n",
              "      <td>...</td>\n",
              "      <td>...</td>\n",
              "      <td>...</td>\n",
              "    </tr>\n",
              "    <tr>\n",
              "      <th>763</th>\n",
              "      <td>10</td>\n",
              "      <td>101</td>\n",
              "      <td>76</td>\n",
              "      <td>48</td>\n",
              "      <td>180</td>\n",
              "      <td>32.9</td>\n",
              "      <td>0.171</td>\n",
              "      <td>63</td>\n",
              "      <td>0</td>\n",
              "    </tr>\n",
              "    <tr>\n",
              "      <th>764</th>\n",
              "      <td>2</td>\n",
              "      <td>122</td>\n",
              "      <td>70</td>\n",
              "      <td>27</td>\n",
              "      <td>0</td>\n",
              "      <td>36.8</td>\n",
              "      <td>0.340</td>\n",
              "      <td>27</td>\n",
              "      <td>0</td>\n",
              "    </tr>\n",
              "    <tr>\n",
              "      <th>765</th>\n",
              "      <td>5</td>\n",
              "      <td>121</td>\n",
              "      <td>72</td>\n",
              "      <td>23</td>\n",
              "      <td>112</td>\n",
              "      <td>26.2</td>\n",
              "      <td>0.245</td>\n",
              "      <td>30</td>\n",
              "      <td>0</td>\n",
              "    </tr>\n",
              "    <tr>\n",
              "      <th>766</th>\n",
              "      <td>1</td>\n",
              "      <td>126</td>\n",
              "      <td>60</td>\n",
              "      <td>0</td>\n",
              "      <td>0</td>\n",
              "      <td>30.1</td>\n",
              "      <td>0.349</td>\n",
              "      <td>47</td>\n",
              "      <td>1</td>\n",
              "    </tr>\n",
              "    <tr>\n",
              "      <th>767</th>\n",
              "      <td>1</td>\n",
              "      <td>93</td>\n",
              "      <td>70</td>\n",
              "      <td>31</td>\n",
              "      <td>0</td>\n",
              "      <td>30.4</td>\n",
              "      <td>0.315</td>\n",
              "      <td>23</td>\n",
              "      <td>0</td>\n",
              "    </tr>\n",
              "  </tbody>\n",
              "</table>\n",
              "<p>768 rows × 9 columns</p>\n",
              "</div>\n",
              "      <button class=\"colab-df-convert\" onclick=\"convertToInteractive('df-4430ea8c-0dd2-4c2b-bba7-840be8019c1b')\"\n",
              "              title=\"Convert this dataframe to an interactive table.\"\n",
              "              style=\"display:none;\">\n",
              "        \n",
              "  <svg xmlns=\"http://www.w3.org/2000/svg\" height=\"24px\"viewBox=\"0 0 24 24\"\n",
              "       width=\"24px\">\n",
              "    <path d=\"M0 0h24v24H0V0z\" fill=\"none\"/>\n",
              "    <path d=\"M18.56 5.44l.94 2.06.94-2.06 2.06-.94-2.06-.94-.94-2.06-.94 2.06-2.06.94zm-11 1L8.5 8.5l.94-2.06 2.06-.94-2.06-.94L8.5 2.5l-.94 2.06-2.06.94zm10 10l.94 2.06.94-2.06 2.06-.94-2.06-.94-.94-2.06-.94 2.06-2.06.94z\"/><path d=\"M17.41 7.96l-1.37-1.37c-.4-.4-.92-.59-1.43-.59-.52 0-1.04.2-1.43.59L10.3 9.45l-7.72 7.72c-.78.78-.78 2.05 0 2.83L4 21.41c.39.39.9.59 1.41.59.51 0 1.02-.2 1.41-.59l7.78-7.78 2.81-2.81c.8-.78.8-2.07 0-2.86zM5.41 20L4 18.59l7.72-7.72 1.47 1.35L5.41 20z\"/>\n",
              "  </svg>\n",
              "      </button>\n",
              "      \n",
              "  <style>\n",
              "    .colab-df-container {\n",
              "      display:flex;\n",
              "      flex-wrap:wrap;\n",
              "      gap: 12px;\n",
              "    }\n",
              "\n",
              "    .colab-df-convert {\n",
              "      background-color: #E8F0FE;\n",
              "      border: none;\n",
              "      border-radius: 50%;\n",
              "      cursor: pointer;\n",
              "      display: none;\n",
              "      fill: #1967D2;\n",
              "      height: 32px;\n",
              "      padding: 0 0 0 0;\n",
              "      width: 32px;\n",
              "    }\n",
              "\n",
              "    .colab-df-convert:hover {\n",
              "      background-color: #E2EBFA;\n",
              "      box-shadow: 0px 1px 2px rgba(60, 64, 67, 0.3), 0px 1px 3px 1px rgba(60, 64, 67, 0.15);\n",
              "      fill: #174EA6;\n",
              "    }\n",
              "\n",
              "    [theme=dark] .colab-df-convert {\n",
              "      background-color: #3B4455;\n",
              "      fill: #D2E3FC;\n",
              "    }\n",
              "\n",
              "    [theme=dark] .colab-df-convert:hover {\n",
              "      background-color: #434B5C;\n",
              "      box-shadow: 0px 1px 3px 1px rgba(0, 0, 0, 0.15);\n",
              "      filter: drop-shadow(0px 1px 2px rgba(0, 0, 0, 0.3));\n",
              "      fill: #FFFFFF;\n",
              "    }\n",
              "  </style>\n",
              "\n",
              "      <script>\n",
              "        const buttonEl =\n",
              "          document.querySelector('#df-4430ea8c-0dd2-4c2b-bba7-840be8019c1b button.colab-df-convert');\n",
              "        buttonEl.style.display =\n",
              "          google.colab.kernel.accessAllowed ? 'block' : 'none';\n",
              "\n",
              "        async function convertToInteractive(key) {\n",
              "          const element = document.querySelector('#df-4430ea8c-0dd2-4c2b-bba7-840be8019c1b');\n",
              "          const dataTable =\n",
              "            await google.colab.kernel.invokeFunction('convertToInteractive',\n",
              "                                                     [key], {});\n",
              "          if (!dataTable) return;\n",
              "\n",
              "          const docLinkHtml = 'Like what you see? Visit the ' +\n",
              "            '<a target=\"_blank\" href=https://colab.research.google.com/notebooks/data_table.ipynb>data table notebook</a>'\n",
              "            + ' to learn more about interactive tables.';\n",
              "          element.innerHTML = '';\n",
              "          dataTable['output_type'] = 'display_data';\n",
              "          await google.colab.output.renderOutput(dataTable, element);\n",
              "          const docLink = document.createElement('div');\n",
              "          docLink.innerHTML = docLinkHtml;\n",
              "          element.appendChild(docLink);\n",
              "        }\n",
              "      </script>\n",
              "    </div>\n",
              "  </div>\n",
              "  "
            ]
          },
          "metadata": {},
          "execution_count": 195
        }
      ]
    },
    {
      "cell_type": "code",
      "source": [
        "data.columns"
      ],
      "metadata": {
        "colab": {
          "base_uri": "https://localhost:8080/"
        },
        "id": "MwaTKEpNTta8",
        "outputId": "77c74e48-fb22-41b9-fd48-78d9ad583cc1"
      },
      "execution_count": 196,
      "outputs": [
        {
          "output_type": "execute_result",
          "data": {
            "text/plain": [
              "Index(['Pregnancies', 'Glucose', 'BloodPressure', 'SkinThickness', 'Insulin',\n",
              "       'BMI', 'DiabetesPedigreeFunction', 'Age', 'Outcome'],\n",
              "      dtype='object')"
            ]
          },
          "metadata": {},
          "execution_count": 196
        }
      ]
    },
    {
      "cell_type": "code",
      "source": [
        "# data.drop(labels=[data.columns[0], data.columns[-1]], axis=1, inplace=True)"
      ],
      "metadata": {
        "id": "0RCOTMb5TuPe"
      },
      "execution_count": 197,
      "outputs": []
    },
    {
      "cell_type": "code",
      "source": [
        "data"
      ],
      "metadata": {
        "colab": {
          "base_uri": "https://localhost:8080/",
          "height": 423
        },
        "id": "NJWCnjlQTz1e",
        "outputId": "4812e1d3-9799-4936-8cd1-63da5902f8c3"
      },
      "execution_count": 198,
      "outputs": [
        {
          "output_type": "execute_result",
          "data": {
            "text/plain": [
              "     Pregnancies  Glucose  BloodPressure  SkinThickness  Insulin   BMI  \\\n",
              "0              6      148             72             35        0  33.6   \n",
              "1              1       85             66             29        0  26.6   \n",
              "2              8      183             64              0        0  23.3   \n",
              "3              1       89             66             23       94  28.1   \n",
              "4              0      137             40             35      168  43.1   \n",
              "..           ...      ...            ...            ...      ...   ...   \n",
              "763           10      101             76             48      180  32.9   \n",
              "764            2      122             70             27        0  36.8   \n",
              "765            5      121             72             23      112  26.2   \n",
              "766            1      126             60              0        0  30.1   \n",
              "767            1       93             70             31        0  30.4   \n",
              "\n",
              "     DiabetesPedigreeFunction  Age  Outcome  \n",
              "0                       0.627   50        1  \n",
              "1                       0.351   31        0  \n",
              "2                       0.672   32        1  \n",
              "3                       0.167   21        0  \n",
              "4                       2.288   33        1  \n",
              "..                        ...  ...      ...  \n",
              "763                     0.171   63        0  \n",
              "764                     0.340   27        0  \n",
              "765                     0.245   30        0  \n",
              "766                     0.349   47        1  \n",
              "767                     0.315   23        0  \n",
              "\n",
              "[768 rows x 9 columns]"
            ],
            "text/html": [
              "\n",
              "  <div id=\"df-f7b783c9-6bf8-482c-8f4e-1f7ba5eee281\">\n",
              "    <div class=\"colab-df-container\">\n",
              "      <div>\n",
              "<style scoped>\n",
              "    .dataframe tbody tr th:only-of-type {\n",
              "        vertical-align: middle;\n",
              "    }\n",
              "\n",
              "    .dataframe tbody tr th {\n",
              "        vertical-align: top;\n",
              "    }\n",
              "\n",
              "    .dataframe thead th {\n",
              "        text-align: right;\n",
              "    }\n",
              "</style>\n",
              "<table border=\"1\" class=\"dataframe\">\n",
              "  <thead>\n",
              "    <tr style=\"text-align: right;\">\n",
              "      <th></th>\n",
              "      <th>Pregnancies</th>\n",
              "      <th>Glucose</th>\n",
              "      <th>BloodPressure</th>\n",
              "      <th>SkinThickness</th>\n",
              "      <th>Insulin</th>\n",
              "      <th>BMI</th>\n",
              "      <th>DiabetesPedigreeFunction</th>\n",
              "      <th>Age</th>\n",
              "      <th>Outcome</th>\n",
              "    </tr>\n",
              "  </thead>\n",
              "  <tbody>\n",
              "    <tr>\n",
              "      <th>0</th>\n",
              "      <td>6</td>\n",
              "      <td>148</td>\n",
              "      <td>72</td>\n",
              "      <td>35</td>\n",
              "      <td>0</td>\n",
              "      <td>33.6</td>\n",
              "      <td>0.627</td>\n",
              "      <td>50</td>\n",
              "      <td>1</td>\n",
              "    </tr>\n",
              "    <tr>\n",
              "      <th>1</th>\n",
              "      <td>1</td>\n",
              "      <td>85</td>\n",
              "      <td>66</td>\n",
              "      <td>29</td>\n",
              "      <td>0</td>\n",
              "      <td>26.6</td>\n",
              "      <td>0.351</td>\n",
              "      <td>31</td>\n",
              "      <td>0</td>\n",
              "    </tr>\n",
              "    <tr>\n",
              "      <th>2</th>\n",
              "      <td>8</td>\n",
              "      <td>183</td>\n",
              "      <td>64</td>\n",
              "      <td>0</td>\n",
              "      <td>0</td>\n",
              "      <td>23.3</td>\n",
              "      <td>0.672</td>\n",
              "      <td>32</td>\n",
              "      <td>1</td>\n",
              "    </tr>\n",
              "    <tr>\n",
              "      <th>3</th>\n",
              "      <td>1</td>\n",
              "      <td>89</td>\n",
              "      <td>66</td>\n",
              "      <td>23</td>\n",
              "      <td>94</td>\n",
              "      <td>28.1</td>\n",
              "      <td>0.167</td>\n",
              "      <td>21</td>\n",
              "      <td>0</td>\n",
              "    </tr>\n",
              "    <tr>\n",
              "      <th>4</th>\n",
              "      <td>0</td>\n",
              "      <td>137</td>\n",
              "      <td>40</td>\n",
              "      <td>35</td>\n",
              "      <td>168</td>\n",
              "      <td>43.1</td>\n",
              "      <td>2.288</td>\n",
              "      <td>33</td>\n",
              "      <td>1</td>\n",
              "    </tr>\n",
              "    <tr>\n",
              "      <th>...</th>\n",
              "      <td>...</td>\n",
              "      <td>...</td>\n",
              "      <td>...</td>\n",
              "      <td>...</td>\n",
              "      <td>...</td>\n",
              "      <td>...</td>\n",
              "      <td>...</td>\n",
              "      <td>...</td>\n",
              "      <td>...</td>\n",
              "    </tr>\n",
              "    <tr>\n",
              "      <th>763</th>\n",
              "      <td>10</td>\n",
              "      <td>101</td>\n",
              "      <td>76</td>\n",
              "      <td>48</td>\n",
              "      <td>180</td>\n",
              "      <td>32.9</td>\n",
              "      <td>0.171</td>\n",
              "      <td>63</td>\n",
              "      <td>0</td>\n",
              "    </tr>\n",
              "    <tr>\n",
              "      <th>764</th>\n",
              "      <td>2</td>\n",
              "      <td>122</td>\n",
              "      <td>70</td>\n",
              "      <td>27</td>\n",
              "      <td>0</td>\n",
              "      <td>36.8</td>\n",
              "      <td>0.340</td>\n",
              "      <td>27</td>\n",
              "      <td>0</td>\n",
              "    </tr>\n",
              "    <tr>\n",
              "      <th>765</th>\n",
              "      <td>5</td>\n",
              "      <td>121</td>\n",
              "      <td>72</td>\n",
              "      <td>23</td>\n",
              "      <td>112</td>\n",
              "      <td>26.2</td>\n",
              "      <td>0.245</td>\n",
              "      <td>30</td>\n",
              "      <td>0</td>\n",
              "    </tr>\n",
              "    <tr>\n",
              "      <th>766</th>\n",
              "      <td>1</td>\n",
              "      <td>126</td>\n",
              "      <td>60</td>\n",
              "      <td>0</td>\n",
              "      <td>0</td>\n",
              "      <td>30.1</td>\n",
              "      <td>0.349</td>\n",
              "      <td>47</td>\n",
              "      <td>1</td>\n",
              "    </tr>\n",
              "    <tr>\n",
              "      <th>767</th>\n",
              "      <td>1</td>\n",
              "      <td>93</td>\n",
              "      <td>70</td>\n",
              "      <td>31</td>\n",
              "      <td>0</td>\n",
              "      <td>30.4</td>\n",
              "      <td>0.315</td>\n",
              "      <td>23</td>\n",
              "      <td>0</td>\n",
              "    </tr>\n",
              "  </tbody>\n",
              "</table>\n",
              "<p>768 rows × 9 columns</p>\n",
              "</div>\n",
              "      <button class=\"colab-df-convert\" onclick=\"convertToInteractive('df-f7b783c9-6bf8-482c-8f4e-1f7ba5eee281')\"\n",
              "              title=\"Convert this dataframe to an interactive table.\"\n",
              "              style=\"display:none;\">\n",
              "        \n",
              "  <svg xmlns=\"http://www.w3.org/2000/svg\" height=\"24px\"viewBox=\"0 0 24 24\"\n",
              "       width=\"24px\">\n",
              "    <path d=\"M0 0h24v24H0V0z\" fill=\"none\"/>\n",
              "    <path d=\"M18.56 5.44l.94 2.06.94-2.06 2.06-.94-2.06-.94-.94-2.06-.94 2.06-2.06.94zm-11 1L8.5 8.5l.94-2.06 2.06-.94-2.06-.94L8.5 2.5l-.94 2.06-2.06.94zm10 10l.94 2.06.94-2.06 2.06-.94-2.06-.94-.94-2.06-.94 2.06-2.06.94z\"/><path d=\"M17.41 7.96l-1.37-1.37c-.4-.4-.92-.59-1.43-.59-.52 0-1.04.2-1.43.59L10.3 9.45l-7.72 7.72c-.78.78-.78 2.05 0 2.83L4 21.41c.39.39.9.59 1.41.59.51 0 1.02-.2 1.41-.59l7.78-7.78 2.81-2.81c.8-.78.8-2.07 0-2.86zM5.41 20L4 18.59l7.72-7.72 1.47 1.35L5.41 20z\"/>\n",
              "  </svg>\n",
              "      </button>\n",
              "      \n",
              "  <style>\n",
              "    .colab-df-container {\n",
              "      display:flex;\n",
              "      flex-wrap:wrap;\n",
              "      gap: 12px;\n",
              "    }\n",
              "\n",
              "    .colab-df-convert {\n",
              "      background-color: #E8F0FE;\n",
              "      border: none;\n",
              "      border-radius: 50%;\n",
              "      cursor: pointer;\n",
              "      display: none;\n",
              "      fill: #1967D2;\n",
              "      height: 32px;\n",
              "      padding: 0 0 0 0;\n",
              "      width: 32px;\n",
              "    }\n",
              "\n",
              "    .colab-df-convert:hover {\n",
              "      background-color: #E2EBFA;\n",
              "      box-shadow: 0px 1px 2px rgba(60, 64, 67, 0.3), 0px 1px 3px 1px rgba(60, 64, 67, 0.15);\n",
              "      fill: #174EA6;\n",
              "    }\n",
              "\n",
              "    [theme=dark] .colab-df-convert {\n",
              "      background-color: #3B4455;\n",
              "      fill: #D2E3FC;\n",
              "    }\n",
              "\n",
              "    [theme=dark] .colab-df-convert:hover {\n",
              "      background-color: #434B5C;\n",
              "      box-shadow: 0px 1px 3px 1px rgba(0, 0, 0, 0.15);\n",
              "      filter: drop-shadow(0px 1px 2px rgba(0, 0, 0, 0.3));\n",
              "      fill: #FFFFFF;\n",
              "    }\n",
              "  </style>\n",
              "\n",
              "      <script>\n",
              "        const buttonEl =\n",
              "          document.querySelector('#df-f7b783c9-6bf8-482c-8f4e-1f7ba5eee281 button.colab-df-convert');\n",
              "        buttonEl.style.display =\n",
              "          google.colab.kernel.accessAllowed ? 'block' : 'none';\n",
              "\n",
              "        async function convertToInteractive(key) {\n",
              "          const element = document.querySelector('#df-f7b783c9-6bf8-482c-8f4e-1f7ba5eee281');\n",
              "          const dataTable =\n",
              "            await google.colab.kernel.invokeFunction('convertToInteractive',\n",
              "                                                     [key], {});\n",
              "          if (!dataTable) return;\n",
              "\n",
              "          const docLinkHtml = 'Like what you see? Visit the ' +\n",
              "            '<a target=\"_blank\" href=https://colab.research.google.com/notebooks/data_table.ipynb>data table notebook</a>'\n",
              "            + ' to learn more about interactive tables.';\n",
              "          element.innerHTML = '';\n",
              "          dataTable['output_type'] = 'display_data';\n",
              "          await google.colab.output.renderOutput(dataTable, element);\n",
              "          const docLink = document.createElement('div');\n",
              "          docLink.innerHTML = docLinkHtml;\n",
              "          element.appendChild(docLink);\n",
              "        }\n",
              "      </script>\n",
              "    </div>\n",
              "  </div>\n",
              "  "
            ]
          },
          "metadata": {},
          "execution_count": 198
        }
      ]
    },
    {
      "cell_type": "code",
      "source": [
        "Y = data['Outcome']"
      ],
      "metadata": {
        "id": "SOPGgnF0T24a"
      },
      "execution_count": 199,
      "outputs": []
    },
    {
      "cell_type": "code",
      "source": [
        "# Y.replace(to_replace=['B','M'], value=[0,1], inplace=True)"
      ],
      "metadata": {
        "id": "kSqG_2KXT5dP"
      },
      "execution_count": 200,
      "outputs": []
    },
    {
      "cell_type": "code",
      "source": [
        "Y"
      ],
      "metadata": {
        "colab": {
          "base_uri": "https://localhost:8080/"
        },
        "id": "E3nos-_kT78R",
        "outputId": "c8e8c1bc-e2ef-450e-8e19-7a88d2fb2ead"
      },
      "execution_count": 201,
      "outputs": [
        {
          "output_type": "execute_result",
          "data": {
            "text/plain": [
              "0      1\n",
              "1      0\n",
              "2      1\n",
              "3      0\n",
              "4      1\n",
              "      ..\n",
              "763    0\n",
              "764    0\n",
              "765    0\n",
              "766    1\n",
              "767    0\n",
              "Name: Outcome, Length: 768, dtype: int64"
            ]
          },
          "metadata": {},
          "execution_count": 201
        }
      ]
    },
    {
      "cell_type": "code",
      "source": [
        "Y = np.array(Y)"
      ],
      "metadata": {
        "id": "szvsX0u_T-6E"
      },
      "execution_count": 202,
      "outputs": []
    },
    {
      "cell_type": "code",
      "source": [
        "Y = Y.reshape(Y.shape[0], 1)"
      ],
      "metadata": {
        "id": "bG6wgwDSVqNF"
      },
      "execution_count": 203,
      "outputs": []
    },
    {
      "cell_type": "code",
      "source": [
        "Y.shape"
      ],
      "metadata": {
        "colab": {
          "base_uri": "https://localhost:8080/"
        },
        "id": "J8YWB-2GVucL",
        "outputId": "1c7fb70b-a1a1-4197-c06b-bb7fa3c1ee9c"
      },
      "execution_count": 204,
      "outputs": [
        {
          "output_type": "execute_result",
          "data": {
            "text/plain": [
              "(768, 1)"
            ]
          },
          "metadata": {},
          "execution_count": 204
        }
      ]
    },
    {
      "cell_type": "code",
      "source": [
        "X = data.iloc[:, :-1].values"
      ],
      "metadata": {
        "id": "NuzztbxZVxrF"
      },
      "execution_count": 205,
      "outputs": []
    },
    {
      "cell_type": "code",
      "source": [
        "X"
      ],
      "metadata": {
        "colab": {
          "base_uri": "https://localhost:8080/"
        },
        "id": "phDxvpLfV2M_",
        "outputId": "d6df5586-9917-4b44-f5ba-a0ebe518f253"
      },
      "execution_count": 206,
      "outputs": [
        {
          "output_type": "execute_result",
          "data": {
            "text/plain": [
              "array([[  6.   , 148.   ,  72.   , ...,  33.6  ,   0.627,  50.   ],\n",
              "       [  1.   ,  85.   ,  66.   , ...,  26.6  ,   0.351,  31.   ],\n",
              "       [  8.   , 183.   ,  64.   , ...,  23.3  ,   0.672,  32.   ],\n",
              "       ...,\n",
              "       [  5.   , 121.   ,  72.   , ...,  26.2  ,   0.245,  30.   ],\n",
              "       [  1.   , 126.   ,  60.   , ...,  30.1  ,   0.349,  47.   ],\n",
              "       [  1.   ,  93.   ,  70.   , ...,  30.4  ,   0.315,  23.   ]])"
            ]
          },
          "metadata": {},
          "execution_count": 206
        }
      ]
    },
    {
      "cell_type": "code",
      "source": [
        "X.shape"
      ],
      "metadata": {
        "colab": {
          "base_uri": "https://localhost:8080/"
        },
        "id": "QdHlE39fV5mf",
        "outputId": "4dac98c8-da41-4ede-c038-3dceecac43c8"
      },
      "execution_count": 207,
      "outputs": [
        {
          "output_type": "execute_result",
          "data": {
            "text/plain": [
              "(768, 8)"
            ]
          },
          "metadata": {},
          "execution_count": 207
        }
      ]
    },
    {
      "cell_type": "code",
      "source": [
        "X = (X - np.mean(X, axis=0))// np.std(X, axis=0)"
      ],
      "metadata": {
        "id": "hRhm_Y1xV8a0"
      },
      "execution_count": 208,
      "outputs": []
    },
    {
      "cell_type": "code",
      "source": [
        "theta_initial = np.random.normal(loc = 0, scale=1, size=(X.shape[1],1))"
      ],
      "metadata": {
        "id": "ZtUq7I81WBMt"
      },
      "execution_count": 209,
      "outputs": []
    },
    {
      "cell_type": "code",
      "source": [
        "theta_initial"
      ],
      "metadata": {
        "colab": {
          "base_uri": "https://localhost:8080/"
        },
        "id": "l3jS3pcyaWQV",
        "outputId": "05e32367-6922-4d37-a2a0-0c2f1a03c19e"
      },
      "execution_count": 210,
      "outputs": [
        {
          "output_type": "execute_result",
          "data": {
            "text/plain": [
              "array([[-0.20952118],\n",
              "       [ 0.59653179],\n",
              "       [-0.34763649],\n",
              "       [ 1.3171003 ],\n",
              "       [ 1.11696617],\n",
              "       [ 0.58035887],\n",
              "       [-0.18371104],\n",
              "       [ 0.07981909]])"
            ]
          },
          "metadata": {},
          "execution_count": 210
        }
      ]
    },
    {
      "cell_type": "code",
      "source": [
        "theta0_initial = 0"
      ],
      "metadata": {
        "id": "f7X2kAzDWD43"
      },
      "execution_count": 211,
      "outputs": []
    },
    {
      "cell_type": "code",
      "source": [
        "def sigmoid(theta0, theta):\n",
        "    return 1/(1 + np.exp(-(theta0 + np.matmul(X, theta))))"
      ],
      "metadata": {
        "id": "EVGrTGf1WGZK"
      },
      "execution_count": 212,
      "outputs": []
    },
    {
      "cell_type": "code",
      "source": [
        "# 1 in notes\n",
        "def del_L_by_del_theta0(theta0, theta):\n",
        "\n",
        "    return np.sum(sigmoid(theta0, theta) - Y)"
      ],
      "metadata": {
        "id": "OqUiYgXbWJW4"
      },
      "execution_count": 213,
      "outputs": []
    },
    {
      "cell_type": "code",
      "source": [
        "# 2 in notes\n",
        "def del_L_by_del_theta(theta0, theta):\n",
        "\n",
        "    return np.matmul((sigmoid(theta0, theta) - Y).T, X).T    \n",
        "    # first its (569,1)\n",
        "    # after transpose(1, 569)"
      ],
      "metadata": {
        "id": "rjkZlRAcWLzo"
      },
      "execution_count": 214,
      "outputs": []
    },
    {
      "cell_type": "code",
      "source": [
        "def binary_cross_entropy(theta0, theta):\n",
        "\n",
        "    return -(np.dot(Y.T, np.log(sigmoid(theta0, theta)))  +  np.dot((1-Y).T, np.log(1-sigmoid(theta0, theta))))"
      ],
      "metadata": {
        "id": "Al88UyEwWRCx"
      },
      "execution_count": 215,
      "outputs": []
    },
    {
      "cell_type": "code",
      "source": [
        "max_iter = 50000\n",
        "epsilon = 0.001\n",
        "tol = 0.00001\n",
        "counter = 0\n",
        "\n",
        "while counter<=max_iter:\n",
        "\n",
        "    theta0_final = theta0_initial - epsilon * del_L_by_del_theta0(theta0_initial, theta_initial)\n",
        "    theta_final = theta_initial - epsilon * del_L_by_del_theta(theta0_initial, theta_initial)\n",
        "\n",
        "    if np.abs(binary_cross_entropy(theta0_final, theta_final) - binary_cross_entropy(theta0_initial, theta_initial)) < tol:\n",
        "        break\n",
        "\n",
        "    print('The value of Binary Cross Entropy at Epoch # {} is {}'.format(counter, binary_cross_entropy(theta0_initial, theta_initial)))\n",
        "\n",
        "    theta0_initial = theta0_final\n",
        "    theta_initial = theta_final\n",
        "\n",
        "    counter += 1\n"
      ],
      "metadata": {
        "colab": {
          "base_uri": "https://localhost:8080/"
        },
        "id": "4NPYY__EavQy",
        "outputId": "982a126d-7443-41ec-ba9a-756da783a6db"
      },
      "execution_count": 216,
      "outputs": [
        {
          "output_type": "stream",
          "name": "stdout",
          "text": [
            "The value of Binary Cross Entropy at Epoch # 0 is [[687.53869676]]\n",
            "The value of Binary Cross Entropy at Epoch # 1 is [[613.57265272]]\n",
            "The value of Binary Cross Entropy at Epoch # 2 is [[551.35413371]]\n",
            "The value of Binary Cross Entropy at Epoch # 3 is [[502.0381208]]\n",
            "The value of Binary Cross Entropy at Epoch # 4 is [[465.44334019]]\n",
            "The value of Binary Cross Entropy at Epoch # 5 is [[439.77840078]]\n",
            "The value of Binary Cross Entropy at Epoch # 6 is [[422.34227526]]\n",
            "The value of Binary Cross Entropy at Epoch # 7 is [[410.53115593]]\n",
            "The value of Binary Cross Entropy at Epoch # 8 is [[402.37965243]]\n",
            "The value of Binary Cross Entropy at Epoch # 9 is [[396.58922481]]\n",
            "The value of Binary Cross Entropy at Epoch # 10 is [[392.35043677]]\n",
            "The value of Binary Cross Entropy at Epoch # 11 is [[389.1638253]]\n",
            "The value of Binary Cross Entropy at Epoch # 12 is [[386.71571945]]\n",
            "The value of Binary Cross Entropy at Epoch # 13 is [[384.80282894]]\n",
            "The value of Binary Cross Entropy at Epoch # 14 is [[383.28851153]]\n",
            "The value of Binary Cross Entropy at Epoch # 15 is [[382.07756395]]\n",
            "The value of Binary Cross Entropy at Epoch # 16 is [[381.1014802]]\n",
            "The value of Binary Cross Entropy at Epoch # 17 is [[380.30960732]]\n",
            "The value of Binary Cross Entropy at Epoch # 18 is [[379.66366585]]\n",
            "The value of Binary Cross Entropy at Epoch # 19 is [[379.13423134]]\n",
            "The value of Binary Cross Entropy at Epoch # 20 is [[378.69839042]]\n",
            "The value of Binary Cross Entropy at Epoch # 21 is [[378.33812323]]\n",
            "The value of Binary Cross Entropy at Epoch # 22 is [[378.03915093]]\n",
            "The value of Binary Cross Entropy at Epoch # 23 is [[377.79009201]]\n",
            "The value of Binary Cross Entropy at Epoch # 24 is [[377.5818309]]\n",
            "The value of Binary Cross Entropy at Epoch # 25 is [[377.40703721]]\n",
            "The value of Binary Cross Entropy at Epoch # 26 is [[377.25979499]]\n",
            "The value of Binary Cross Entropy at Epoch # 27 is [[377.13531395]]\n",
            "The value of Binary Cross Entropy at Epoch # 28 is [[377.02970292]]\n",
            "The value of Binary Cross Entropy at Epoch # 29 is [[376.93979121]]\n",
            "The value of Binary Cross Entropy at Epoch # 30 is [[376.86298709]]\n",
            "The value of Binary Cross Entropy at Epoch # 31 is [[376.79716539]]\n",
            "The value of Binary Cross Entropy at Epoch # 32 is [[376.74057786]]\n",
            "The value of Binary Cross Entropy at Epoch # 33 is [[376.69178164]]\n",
            "The value of Binary Cross Entropy at Epoch # 34 is [[376.64958197]]\n",
            "The value of Binary Cross Entropy at Epoch # 35 is [[376.61298615]]\n",
            "The value of Binary Cross Entropy at Epoch # 36 is [[376.58116663]]\n",
            "The value of Binary Cross Entropy at Epoch # 37 is [[376.55343115]]\n",
            "The value of Binary Cross Entropy at Epoch # 38 is [[376.52919866]]\n",
            "The value of Binary Cross Entropy at Epoch # 39 is [[376.50797981]]\n",
            "The value of Binary Cross Entropy at Epoch # 40 is [[376.48936111]]\n",
            "The value of Binary Cross Entropy at Epoch # 41 is [[376.472992]]\n",
            "The value of Binary Cross Entropy at Epoch # 42 is [[376.45857431]]\n",
            "The value of Binary Cross Entropy at Epoch # 43 is [[376.44585366]]\n",
            "The value of Binary Cross Entropy at Epoch # 44 is [[376.43461234]]\n",
            "The value of Binary Cross Entropy at Epoch # 45 is [[376.42466346]]\n",
            "The value of Binary Cross Entropy at Epoch # 46 is [[376.41584617]]\n",
            "The value of Binary Cross Entropy at Epoch # 47 is [[376.40802161]]\n",
            "The value of Binary Cross Entropy at Epoch # 48 is [[376.4010696]]\n",
            "The value of Binary Cross Entropy at Epoch # 49 is [[376.39488587]]\n",
            "The value of Binary Cross Entropy at Epoch # 50 is [[376.38937975]]\n",
            "The value of Binary Cross Entropy at Epoch # 51 is [[376.38447218]]\n",
            "The value of Binary Cross Entropy at Epoch # 52 is [[376.38009411]]\n",
            "The value of Binary Cross Entropy at Epoch # 53 is [[376.37618509]]\n",
            "The value of Binary Cross Entropy at Epoch # 54 is [[376.37269209]]\n",
            "The value of Binary Cross Entropy at Epoch # 55 is [[376.36956854]]\n",
            "The value of Binary Cross Entropy at Epoch # 56 is [[376.36677342]]\n",
            "The value of Binary Cross Entropy at Epoch # 57 is [[376.3642706]]\n",
            "The value of Binary Cross Entropy at Epoch # 58 is [[376.36202815]]\n",
            "The value of Binary Cross Entropy at Epoch # 59 is [[376.36001786]]\n",
            "The value of Binary Cross Entropy at Epoch # 60 is [[376.35821474]]\n",
            "The value of Binary Cross Entropy at Epoch # 61 is [[376.35659664]]\n",
            "The value of Binary Cross Entropy at Epoch # 62 is [[376.3551439]]\n",
            "The value of Binary Cross Entropy at Epoch # 63 is [[376.35383906]]\n",
            "The value of Binary Cross Entropy at Epoch # 64 is [[376.35266659]]\n",
            "The value of Binary Cross Entropy at Epoch # 65 is [[376.35161264]]\n",
            "The value of Binary Cross Entropy at Epoch # 66 is [[376.35066491]]\n",
            "The value of Binary Cross Entropy at Epoch # 67 is [[376.34981239]]\n",
            "The value of Binary Cross Entropy at Epoch # 68 is [[376.34904527]]\n",
            "The value of Binary Cross Entropy at Epoch # 69 is [[376.3483548]]\n",
            "The value of Binary Cross Entropy at Epoch # 70 is [[376.34773313]]\n",
            "The value of Binary Cross Entropy at Epoch # 71 is [[376.34717327]]\n",
            "The value of Binary Cross Entropy at Epoch # 72 is [[376.34666893]]\n",
            "The value of Binary Cross Entropy at Epoch # 73 is [[376.34621451]]\n",
            "The value of Binary Cross Entropy at Epoch # 74 is [[376.34580497]]\n",
            "The value of Binary Cross Entropy at Epoch # 75 is [[376.3454358]]\n",
            "The value of Binary Cross Entropy at Epoch # 76 is [[376.34510296]]\n",
            "The value of Binary Cross Entropy at Epoch # 77 is [[376.3448028]]\n",
            "The value of Binary Cross Entropy at Epoch # 78 is [[376.34453208]]\n",
            "The value of Binary Cross Entropy at Epoch # 79 is [[376.34428786]]\n",
            "The value of Binary Cross Entropy at Epoch # 80 is [[376.34406751]]\n",
            "The value of Binary Cross Entropy at Epoch # 81 is [[376.34386867]]\n",
            "The value of Binary Cross Entropy at Epoch # 82 is [[376.34368922]]\n",
            "The value of Binary Cross Entropy at Epoch # 83 is [[376.34352723]]\n",
            "The value of Binary Cross Entropy at Epoch # 84 is [[376.343381]]\n",
            "The value of Binary Cross Entropy at Epoch # 85 is [[376.34324896]]\n",
            "The value of Binary Cross Entropy at Epoch # 86 is [[376.34312974]]\n",
            "The value of Binary Cross Entropy at Epoch # 87 is [[376.34302207]]\n",
            "The value of Binary Cross Entropy at Epoch # 88 is [[376.34292482]]\n",
            "The value of Binary Cross Entropy at Epoch # 89 is [[376.34283698]]\n",
            "The value of Binary Cross Entropy at Epoch # 90 is [[376.34275762]]\n",
            "The value of Binary Cross Entropy at Epoch # 91 is [[376.34268593]]\n",
            "The value of Binary Cross Entropy at Epoch # 92 is [[376.34262115]]\n",
            "The value of Binary Cross Entropy at Epoch # 93 is [[376.34256262]]\n",
            "The value of Binary Cross Entropy at Epoch # 94 is [[376.34250972]]\n",
            "The value of Binary Cross Entropy at Epoch # 95 is [[376.34246192]]\n",
            "The value of Binary Cross Entropy at Epoch # 96 is [[376.34241871]]\n",
            "The value of Binary Cross Entropy at Epoch # 97 is [[376.34237965]]\n",
            "The value of Binary Cross Entropy at Epoch # 98 is [[376.34234435]]\n",
            "The value of Binary Cross Entropy at Epoch # 99 is [[376.34231243]]\n",
            "The value of Binary Cross Entropy at Epoch # 100 is [[376.34228358]]\n",
            "The value of Binary Cross Entropy at Epoch # 101 is [[376.34225749]]\n",
            "The value of Binary Cross Entropy at Epoch # 102 is [[376.3422339]]\n",
            "The value of Binary Cross Entropy at Epoch # 103 is [[376.34221257]]\n",
            "The value of Binary Cross Entropy at Epoch # 104 is [[376.34219329]]\n",
            "The value of Binary Cross Entropy at Epoch # 105 is [[376.34217584]]\n",
            "The value of Binary Cross Entropy at Epoch # 106 is [[376.34216007]]\n",
            "The value of Binary Cross Entropy at Epoch # 107 is [[376.34214581]]\n",
            "The value of Binary Cross Entropy at Epoch # 108 is [[376.34213291]]\n",
            "The value of Binary Cross Entropy at Epoch # 109 is [[376.34212124]]\n"
          ]
        }
      ]
    },
    {
      "cell_type": "code",
      "source": [],
      "metadata": {
        "id": "BcyD0QLecgWX"
      },
      "execution_count": 216,
      "outputs": []
    }
  ]
}